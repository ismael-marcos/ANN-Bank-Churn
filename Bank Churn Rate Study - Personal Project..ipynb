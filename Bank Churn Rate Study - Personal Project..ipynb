{
 "cells": [
  {
   "cell_type": "code",
   "execution_count": 16,
   "metadata": {},
   "outputs": [
    {
     "data": {
      "text/html": [
       "<div>\n",
       "<style scoped>\n",
       "    .dataframe tbody tr th:only-of-type {\n",
       "        vertical-align: middle;\n",
       "    }\n",
       "\n",
       "    .dataframe tbody tr th {\n",
       "        vertical-align: top;\n",
       "    }\n",
       "\n",
       "    .dataframe thead th {\n",
       "        text-align: right;\n",
       "    }\n",
       "</style>\n",
       "<table border=\"1\" class=\"dataframe\">\n",
       "  <thead>\n",
       "    <tr style=\"text-align: right;\">\n",
       "      <th></th>\n",
       "      <th>RowNumber</th>\n",
       "      <th>CustomerId</th>\n",
       "      <th>Surname</th>\n",
       "      <th>CreditScore</th>\n",
       "      <th>Geography</th>\n",
       "      <th>Gender</th>\n",
       "      <th>Age</th>\n",
       "      <th>Tenure</th>\n",
       "      <th>Balance</th>\n",
       "      <th>NumOfProducts</th>\n",
       "      <th>HasCrCard</th>\n",
       "      <th>IsActiveMember</th>\n",
       "      <th>EstimatedSalary</th>\n",
       "      <th>Exited</th>\n",
       "    </tr>\n",
       "  </thead>\n",
       "  <tbody>\n",
       "    <tr>\n",
       "      <th>0</th>\n",
       "      <td>1</td>\n",
       "      <td>15634602</td>\n",
       "      <td>Hargrave</td>\n",
       "      <td>619</td>\n",
       "      <td>France</td>\n",
       "      <td>Female</td>\n",
       "      <td>42</td>\n",
       "      <td>2</td>\n",
       "      <td>0.00</td>\n",
       "      <td>1</td>\n",
       "      <td>1</td>\n",
       "      <td>1</td>\n",
       "      <td>101348.88</td>\n",
       "      <td>1</td>\n",
       "    </tr>\n",
       "    <tr>\n",
       "      <th>1</th>\n",
       "      <td>2</td>\n",
       "      <td>15647311</td>\n",
       "      <td>Hill</td>\n",
       "      <td>608</td>\n",
       "      <td>Spain</td>\n",
       "      <td>Female</td>\n",
       "      <td>41</td>\n",
       "      <td>1</td>\n",
       "      <td>83807.86</td>\n",
       "      <td>1</td>\n",
       "      <td>0</td>\n",
       "      <td>1</td>\n",
       "      <td>112542.58</td>\n",
       "      <td>0</td>\n",
       "    </tr>\n",
       "    <tr>\n",
       "      <th>2</th>\n",
       "      <td>3</td>\n",
       "      <td>15619304</td>\n",
       "      <td>Onio</td>\n",
       "      <td>502</td>\n",
       "      <td>France</td>\n",
       "      <td>Female</td>\n",
       "      <td>42</td>\n",
       "      <td>8</td>\n",
       "      <td>159660.80</td>\n",
       "      <td>3</td>\n",
       "      <td>1</td>\n",
       "      <td>0</td>\n",
       "      <td>113931.57</td>\n",
       "      <td>1</td>\n",
       "    </tr>\n",
       "  </tbody>\n",
       "</table>\n",
       "</div>"
      ],
      "text/plain": [
       "   RowNumber  CustomerId   Surname  CreditScore Geography  Gender  Age  \\\n",
       "0          1    15634602  Hargrave          619    France  Female   42   \n",
       "1          2    15647311      Hill          608     Spain  Female   41   \n",
       "2          3    15619304      Onio          502    France  Female   42   \n",
       "\n",
       "   Tenure    Balance  NumOfProducts  HasCrCard  IsActiveMember  \\\n",
       "0       2       0.00              1          1               1   \n",
       "1       1   83807.86              1          0               1   \n",
       "2       8  159660.80              3          1               0   \n",
       "\n",
       "   EstimatedSalary  Exited  \n",
       "0        101348.88       1  \n",
       "1        112542.58       0  \n",
       "2        113931.57       1  "
      ]
     },
     "execution_count": 16,
     "metadata": {},
     "output_type": "execute_result"
    }
   ],
   "source": [
    "# %load classification_template.py\n",
    "# Classification template\n",
    "\n",
    "# Importing the libraries\n",
    "import numpy as np\n",
    "import matplotlib.pyplot as plt\n",
    "import pandas as pd\n",
    "\n",
    "# Importing the dataset\n",
    "dataset = pd.read_csv('Churn_Modelling.csv')\n",
    "dataset.head(3)"
   ]
  },
  {
   "cell_type": "markdown",
   "metadata": {},
   "source": [
    "## Part 1: Data Pre-processing"
   ]
  },
  {
   "cell_type": "code",
   "execution_count": 17,
   "metadata": {},
   "outputs": [],
   "source": [
    "#Selecting the independent and dependent variables based on which independent have impact in the dependent\n",
    "\n",
    "X = dataset.iloc[:, 3:13].values #Independent variables 3 to 12 (note we wrote 13 because isn't included)\n",
    "y = dataset.iloc[:, 13].values  #Dependant variable"
   ]
  },
  {
   "cell_type": "code",
   "execution_count": 18,
   "metadata": {},
   "outputs": [],
   "source": [
    "# %load categorical_data.py\n",
    "# Data Preprocessing\n",
    "\n",
    "# Encoding categorical data\n",
    "# Encoding the Independent Variable\n",
    "from sklearn.preprocessing import LabelEncoder, OneHotEncoder\n",
    "labelencoder_X_1 = LabelEncoder()\n",
    "X[:, 1] = labelencoder_X_1.fit_transform(X[:, 1])\n",
    "\n",
    "labelencoder_X_2 = LabelEncoder()\n",
    "X[:, 2] = labelencoder_X_2.fit_transform(X[:, 2])"
   ]
  },
  {
   "cell_type": "code",
   "execution_count": 19,
   "metadata": {},
   "outputs": [
    {
     "name": "stderr",
     "output_type": "stream",
     "text": [
      "/Library/Frameworks/Python.framework/Versions/3.7/lib/python3.7/site-packages/sklearn/preprocessing/_encoders.py:415: FutureWarning: The handling of integer data will change in version 0.22. Currently, the categories are determined based on the range [0, max(values)], while in the future they will be determined based on the unique values.\n",
      "If you want the future behaviour and silence this warning, you can specify \"categories='auto'\".\n",
      "In case you used a LabelEncoder before this OneHotEncoder to convert the categories to integers, then you can now use the OneHotEncoder directly.\n",
      "  warnings.warn(msg, FutureWarning)\n",
      "/Library/Frameworks/Python.framework/Versions/3.7/lib/python3.7/site-packages/sklearn/preprocessing/_encoders.py:451: DeprecationWarning: The 'categorical_features' keyword is deprecated in version 0.20 and will be removed in 0.22. You can use the ColumnTransformer instead.\n",
      "  \"use the ColumnTransformer instead.\", DeprecationWarning)\n"
     ]
    }
   ],
   "source": [
    "# This makes dummy variables, which fixes that when encoding categorical data, 2>0 and that tricks the neural network,\n",
    "# and also any machine learning model.\n",
    "\n",
    "# Because we have 3 different values in country, it creates 3 columns with the dummy variables.\n",
    "\n",
    "onehotencoder = OneHotEncoder(categorical_features = [1])\n",
    "X = onehotencoder.fit_transform(X).toarray()"
   ]
  },
  {
   "cell_type": "code",
   "execution_count": 20,
   "metadata": {},
   "outputs": [
    {
     "data": {
      "text/plain": [
       "array([[0.0000000e+00, 0.0000000e+00, 6.1900000e+02, ..., 1.0000000e+00,\n",
       "        1.0000000e+00, 1.0134888e+05],\n",
       "       [0.0000000e+00, 1.0000000e+00, 6.0800000e+02, ..., 0.0000000e+00,\n",
       "        1.0000000e+00, 1.1254258e+05],\n",
       "       [0.0000000e+00, 0.0000000e+00, 5.0200000e+02, ..., 1.0000000e+00,\n",
       "        0.0000000e+00, 1.1393157e+05],\n",
       "       ...,\n",
       "       [0.0000000e+00, 0.0000000e+00, 7.0900000e+02, ..., 0.0000000e+00,\n",
       "        1.0000000e+00, 4.2085580e+04],\n",
       "       [1.0000000e+00, 0.0000000e+00, 7.7200000e+02, ..., 1.0000000e+00,\n",
       "        0.0000000e+00, 9.2888520e+04],\n",
       "       [0.0000000e+00, 0.0000000e+00, 7.9200000e+02, ..., 1.0000000e+00,\n",
       "        0.0000000e+00, 3.8190780e+04]])"
      ]
     },
     "execution_count": 20,
     "metadata": {},
     "output_type": "execute_result"
    }
   ],
   "source": [
    "X = X[:,1:]\n",
    "X"
   ]
  },
  {
   "cell_type": "code",
   "execution_count": 21,
   "metadata": {},
   "outputs": [],
   "source": [
    "# Splitting the dataset into the Training set and Test set\n",
    "from sklearn.model_selection import train_test_split\n",
    "X_train, X_test, y_train, y_test = train_test_split(X, y, test_size = 0.2, random_state = 0)"
   ]
  },
  {
   "cell_type": "code",
   "execution_count": 22,
   "metadata": {},
   "outputs": [],
   "source": [
    "# Feature Scaling\n",
    "from sklearn.preprocessing import StandardScaler\n",
    "sc = StandardScaler()\n",
    "X_train = sc.fit_transform(X_train)\n",
    "X_test = sc.transform(X_test)"
   ]
  },
  {
   "cell_type": "markdown",
   "metadata": {},
   "source": [
    "## Part 2: Building the ANN"
   ]
  },
  {
   "cell_type": "code",
   "execution_count": 23,
   "metadata": {},
   "outputs": [],
   "source": [
    "# Importing needed modules\n",
    "\n",
    "import keras\n",
    "from keras.models import Sequential\n",
    "from keras.layers import Dense\n",
    "from keras.layers import Dropout"
   ]
  },
  {
   "cell_type": "code",
   "execution_count": 24,
   "metadata": {},
   "outputs": [],
   "source": [
    "# Initializing the ANN ( Building the Layers )\n",
    "\n",
    "classifier = Sequential()"
   ]
  },
  {
   "cell_type": "code",
   "execution_count": 25,
   "metadata": {},
   "outputs": [],
   "source": [
    "# Creating the Layers of our ANN\n",
    "\n",
    "# Input Layer and First Hidden Layer WITH  OPTIONAL DROPOUT TO REDUCE OVERFITTING.\n",
    "\n",
    "classifier.add(Dense(units = 6,kernel_initializer = 'uniform',activation = 'relu'))\n",
    "# classifier.add(Dropout(rate = 0.1)) # First time try with 0.1. Never over 0.5."
   ]
  },
  {
   "cell_type": "code",
   "execution_count": 26,
   "metadata": {},
   "outputs": [],
   "source": [
    "# Second Hidden Layer\n",
    "\n",
    "classifier.add(Dense(units = 6,kernel_initializer = 'uniform',activation = 'relu'))\n",
    "# classifier.add(Dropout(rate = 0.1)) # First time try with 0.1. Never over 0.5."
   ]
  },
  {
   "cell_type": "code",
   "execution_count": 27,
   "metadata": {},
   "outputs": [],
   "source": [
    "# Output Layer\n",
    "\n",
    "classifier.add(Dense(units = 1,kernel_initializer = 'uniform',activation = 'sigmoid'))"
   ]
  },
  {
   "cell_type": "code",
   "execution_count": 28,
   "metadata": {},
   "outputs": [],
   "source": [
    "# Compiling the ANN\n",
    "\n",
    "classifier.compile(optimizer = 'adam', loss = 'binary_crossentropy', metrics = ['accuracy'])"
   ]
  },
  {
   "cell_type": "code",
   "execution_count": 29,
   "metadata": {},
   "outputs": [
    {
     "name": "stdout",
     "output_type": "stream",
     "text": [
      "Epoch 1/25\n",
      "8000/8000 [==============================] - 1s 105us/step - loss: 0.4856 - acc: 0.7957\n",
      "Epoch 2/25\n",
      "8000/8000 [==============================] - 1s 75us/step - loss: 0.4266 - acc: 0.7960\n",
      "Epoch 3/25\n",
      "8000/8000 [==============================] - 1s 75us/step - loss: 0.4198 - acc: 0.8146\n",
      "Epoch 4/25\n",
      "8000/8000 [==============================] - 1s 75us/step - loss: 0.4146 - acc: 0.8286\n",
      "Epoch 5/25\n",
      "8000/8000 [==============================] - 1s 75us/step - loss: 0.4105 - acc: 0.8322\n",
      "Epoch 6/25\n",
      "8000/8000 [==============================] - 1s 75us/step - loss: 0.4076 - acc: 0.8324\n",
      "Epoch 7/25\n",
      "8000/8000 [==============================] - 1s 75us/step - loss: 0.4061 - acc: 0.8324\n",
      "Epoch 8/25\n",
      "8000/8000 [==============================] - 1s 75us/step - loss: 0.4046 - acc: 0.8320\n",
      "Epoch 9/25\n",
      "8000/8000 [==============================] - 1s 75us/step - loss: 0.4033 - acc: 0.8316\n",
      "Epoch 10/25\n",
      "8000/8000 [==============================] - 1s 75us/step - loss: 0.4025 - acc: 0.8331\n",
      "Epoch 11/25\n",
      "8000/8000 [==============================] - 1s 75us/step - loss: 0.4020 - acc: 0.8352\n",
      "Epoch 12/25\n",
      "8000/8000 [==============================] - 1s 76us/step - loss: 0.4006 - acc: 0.8337\n",
      "Epoch 13/25\n",
      "8000/8000 [==============================] - 1s 77us/step - loss: 0.4000 - acc: 0.8350\n",
      "Epoch 14/25\n",
      "8000/8000 [==============================] - 1s 77us/step - loss: 0.3995 - acc: 0.8340\n",
      "Epoch 15/25\n",
      "8000/8000 [==============================] - 1s 77us/step - loss: 0.3992 - acc: 0.8342\n",
      "Epoch 16/25\n",
      "8000/8000 [==============================] - 1s 77us/step - loss: 0.3984 - acc: 0.8360\n",
      "Epoch 17/25\n",
      "8000/8000 [==============================] - 1s 78us/step - loss: 0.3977 - acc: 0.8350\n",
      "Epoch 18/25\n",
      "8000/8000 [==============================] - 1s 77us/step - loss: 0.3979 - acc: 0.8356\n",
      "Epoch 19/25\n",
      "8000/8000 [==============================] - 1s 77us/step - loss: 0.3970 - acc: 0.8354\n",
      "Epoch 20/25\n",
      "8000/8000 [==============================] - 1s 77us/step - loss: 0.3963 - acc: 0.8369\n",
      "Epoch 21/25\n",
      "8000/8000 [==============================] - 1s 77us/step - loss: 0.3959 - acc: 0.8340\n",
      "Epoch 22/25\n",
      "8000/8000 [==============================] - 1s 79us/step - loss: 0.3953 - acc: 0.8370: 0s - loss: 0.3858 - acc:\n",
      "Epoch 23/25\n",
      "8000/8000 [==============================] - 1s 77us/step - loss: 0.3958 - acc: 0.8360\n",
      "Epoch 24/25\n",
      "8000/8000 [==============================] - 1s 78us/step - loss: 0.3948 - acc: 0.8370\n",
      "Epoch 25/25\n",
      "8000/8000 [==============================] - 1s 77us/step - loss: 0.3953 - acc: 0.8369\n"
     ]
    },
    {
     "data": {
      "text/plain": [
       "<keras.callbacks.History at 0x1375a0110>"
      ]
     },
     "execution_count": 29,
     "metadata": {},
     "output_type": "execute_result"
    }
   ],
   "source": [
    "# Fitting the ANN to the Training set. TRAINING THE ANN.\n",
    "\n",
    "classifier.fit(X_train, y_train, batch_size=10, epochs=25)"
   ]
  },
  {
   "cell_type": "markdown",
   "metadata": {},
   "source": [
    "## Part 3: Making the Predictions and Evaluating the Model"
   ]
  },
  {
   "cell_type": "code",
   "execution_count": 30,
   "metadata": {},
   "outputs": [],
   "source": [
    "# Predicting the Test set results\n",
    "y_pred = classifier.predict(X_test)"
   ]
  },
  {
   "cell_type": "code",
   "execution_count": 31,
   "metadata": {},
   "outputs": [],
   "source": [
    "y_pred = (y_pred > 0.5) # TRUE or FALSE for Classification Model."
   ]
  },
  {
   "cell_type": "code",
   "execution_count": 32,
   "metadata": {},
   "outputs": [],
   "source": [
    "# Making the Confusion Matrix\n",
    "from sklearn.metrics import confusion_matrix\n",
    "cm = confusion_matrix(y_test, y_pred)"
   ]
  },
  {
   "cell_type": "code",
   "execution_count": 33,
   "metadata": {},
   "outputs": [
    {
     "data": {
      "text/plain": [
       "array([[1550,   45],\n",
       "       [ 271,  134]])"
      ]
     },
     "execution_count": 33,
     "metadata": {},
     "output_type": "execute_result"
    }
   ],
   "source": [
    "cm"
   ]
  },
  {
   "cell_type": "code",
   "execution_count": 39,
   "metadata": {},
   "outputs": [
    {
     "data": {
      "text/plain": [
       "0.842"
      ]
     },
     "execution_count": 39,
     "metadata": {},
     "output_type": "execute_result"
    }
   ],
   "source": [
    "Accuracy = (cm[0,0] + cm[1,1]) / (cm[0,0] + cm[0,1] + cm[1,0] + cm[1,1])\n",
    "\n",
    "Accuracy"
   ]
  },
  {
   "cell_type": "markdown",
   "metadata": {},
   "source": [
    "## Predicting if one customer will leave the bank"
   ]
  },
  {
   "cell_type": "code",
   "execution_count": 46,
   "metadata": {},
   "outputs": [],
   "source": [
    "new_prediction = classifier.predict(sc.transform(np.array([[0, 0, 600, 1, 40, 3, 60000, 2, 1, 1, 50000]])))"
   ]
  },
  {
   "cell_type": "code",
   "execution_count": 45,
   "metadata": {},
   "outputs": [
    {
     "data": {
      "text/plain": [
       "array([[False]])"
      ]
     },
     "execution_count": 45,
     "metadata": {},
     "output_type": "execute_result"
    }
   ],
   "source": [
    "new_prediction = (new_prediction > 0.5)\n",
    "new_prediction"
   ]
  },
  {
   "cell_type": "markdown",
   "metadata": {},
   "source": [
    "## Part 4: Evaluating, Improving and Tuning the ANN"
   ]
  },
  {
   "cell_type": "code",
   "execution_count": 47,
   "metadata": {},
   "outputs": [],
   "source": [
    "# Evaluating the ANN (K-Fold Cross Validation)\n",
    "\n",
    "import keras\n",
    "from keras.models import Sequential\n",
    "from keras.layers import Dense\n",
    "from keras.layers import Dropout\n",
    "\n",
    "from keras.wrappers.scikit_learn import KerasClassifier\n",
    "from sklearn.model_selection import cross_val_score"
   ]
  },
  {
   "cell_type": "code",
   "execution_count": 48,
   "metadata": {},
   "outputs": [],
   "source": [
    "# Wrapping\n",
    "\n",
    "def build_classifier():\n",
    "    classifier = Sequential()\n",
    "    classifier.add(Dense(units = 6,kernel_initializer = 'uniform',activation = 'relu'))\n",
    "    classifier.add(Dense(units = 6,kernel_initializer = 'uniform',activation = 'relu'))\n",
    "    classifier.add(Dense(units = 1,kernel_initializer = 'uniform',activation = 'sigmoid'))\n",
    "    classifier.compile(optimizer = 'adam', loss = 'binary_crossentropy', metrics = ['accuracy'])\n",
    "    \n",
    "    return classifier\n",
    "\n",
    "\n",
    "classifier = KerasClassifier(build_fn = build_classifier, batch_size = 10, nb_epoch = 100)\n",
    "\n",
    "accuracies = cross_val_score(estimator = classifier, X = X_train, y = y_train, cv = 10,\n",
    "                             n_jobs = -1)#n_jobs = cpu cores used. -1 uses all.\n"
   ]
  },
  {
   "cell_type": "code",
   "execution_count": 49,
   "metadata": {},
   "outputs": [
    {
     "name": "stdout",
     "output_type": "stream",
     "text": [
      "0.7979999966174365 0.00995615343491111\n"
     ]
    }
   ],
   "source": [
    "mean = accuracies.mean()\n",
    "variance = accuracies.std()\n",
    "print(mean, variance)"
   ]
  },
  {
   "cell_type": "code",
   "execution_count": 50,
   "metadata": {},
   "outputs": [],
   "source": [
    "# Tuning the ANN\n",
    "\n",
    "import keras\n",
    "from keras.models import Sequential\n",
    "from keras.layers import Dense\n",
    "\n",
    "from keras.wrappers.scikit_learn import KerasClassifier\n",
    "from sklearn.model_selection import GridSearchCV"
   ]
  },
  {
   "cell_type": "code",
   "execution_count": 51,
   "metadata": {},
   "outputs": [],
   "source": [
    "def build_classifier(optimizer):\n",
    "    classifier = Sequential()\n",
    "    classifier.add(Dense(units = 6,kernel_initializer = 'uniform',activation = 'relu'))\n",
    "    classifier.add(Dense(units = 6,kernel_initializer = 'uniform',activation = 'relu'))\n",
    "    classifier.add(Dense(units = 1,kernel_initializer = 'uniform',activation = 'sigmoid'))\n",
    "    classifier.compile(optimizer = optimizer, loss = 'binary_crossentropy', metrics = ['accuracy'])\n",
    "    \n",
    "    return classifier\n",
    "\n",
    "\n",
    "classifier = KerasClassifier(build_fn = build_classifier)"
   ]
  },
  {
   "cell_type": "code",
   "execution_count": null,
   "metadata": {},
   "outputs": [
    {
     "name": "stdout",
     "output_type": "stream",
     "text": [
      "Epoch 1/1\n",
      "7200/7200 [==============================] - 1s 72us/step - loss: 0.5566 - acc: 0.7967\n",
      "Epoch 1/1\n",
      "7200/7200 [==============================] - 1s 77us/step - loss: 0.5606 - acc: 0.7960\n",
      "Epoch 1/1\n",
      "7200/7200 [==============================] - 1s 82us/step - loss: 0.5687 - acc: 0.7937\n",
      "Epoch 1/1\n",
      "7200/7200 [==============================] - 1s 89us/step - loss: 0.5454 - acc: 0.7971\n",
      "Epoch 1/1\n",
      "7200/7200 [==============================] - 1s 91us/step - loss: 0.5615 - acc: 0.7926\n",
      "Epoch 1/1\n",
      "7200/7200 [==============================] - 1s 97us/step - loss: 0.5673 - acc: 0.7940\n",
      "Epoch 1/1\n",
      "7200/7200 [==============================] - 1s 101us/step - loss: 0.5584 - acc: 0.7960\n",
      "Epoch 1/1\n",
      "7200/7200 [==============================] - 1s 108us/step - loss: 0.5807 - acc: 0.7953\n",
      "Epoch 1/1\n",
      "7200/7200 [==============================] - 1s 115us/step - loss: 0.5757 - acc: 0.7946\n",
      "Epoch 1/1\n",
      "7200/7200 [==============================] - 1s 120us/step - loss: 0.5633 - acc: 0.7951\n",
      "Epoch 1/1\n",
      "7200/7200 [==============================] - 1s 121us/step - loss: 0.5609 - acc: 0.7971\n",
      "Epoch 1/1\n",
      "7200/7200 [==============================] - 1s 122us/step - loss: 0.5857 - acc: 0.7957\n",
      "Epoch 1/1\n",
      "7200/7200 [==============================] - 1s 129us/step - loss: 0.5922 - acc: 0.7946\n",
      "Epoch 1/1\n",
      "7200/7200 [==============================] - 1s 132us/step - loss: 0.6055 - acc: 0.7956\n",
      "Epoch 1/1\n",
      "7200/7200 [==============================] - 1s 136us/step - loss: 0.5803 - acc: 0.7922\n",
      "Epoch 1/1\n",
      "7200/7200 [==============================] - 1s 141us/step - loss: 0.5930 - acc: 0.7924\n",
      "Epoch 1/1\n",
      "7200/7200 [==============================] - 1s 148us/step - loss: 0.6229 - acc: 0.7950\n",
      "Epoch 1/1\n",
      "7200/7200 [==============================] - 1s 150us/step - loss: 0.5600 - acc: 0.7962\n",
      "Epoch 1/1\n",
      "7200/7200 [==============================] - 1s 158us/step - loss: 0.6005 - acc: 0.7944\n",
      "Epoch 1/1\n",
      "7200/7200 [==============================] - 1s 165us/step - loss: 0.5748 - acc: 0.7949\n",
      "Epoch 1/1\n",
      "7200/7200 [==============================] - 1s 178us/step - loss: 0.5586 - acc: 0.7942\n",
      "Epoch 1/1\n",
      "7200/7200 [==============================] - 1s 180us/step - loss: 0.6003 - acc: 0.7942\n",
      "Epoch 1/1\n",
      "7200/7200 [==============================] - 1s 187us/step - loss: 0.5751 - acc: 0.7936\n",
      "Epoch 1/1\n",
      "7200/7200 [==============================] - 1s 191us/step - loss: 0.5443 - acc: 0.7975\n",
      "Epoch 1/1\n",
      "7200/7200 [==============================] - 1s 200us/step - loss: 0.5635 - acc: 0.7922\n",
      "Epoch 1/1\n",
      "7200/7200 [==============================] - 1s 204us/step - loss: 0.5744 - acc: 0.7928\n",
      "Epoch 1/1\n",
      "7200/7200 [==============================] - 2s 214us/step - loss: 0.5605 - acc: 0.7944\n",
      "Epoch 1/1\n",
      "7200/7200 [==============================] - 2s 217us/step - loss: 0.5662 - acc: 0.7957\n",
      "Epoch 1/1\n",
      "7200/7200 [==============================] - 2s 225us/step - loss: 0.5587 - acc: 0.7950\n",
      "Epoch 1/1\n",
      "7200/7200 [==============================] - 2s 227us/step - loss: 0.5632 - acc: 0.7954\n",
      "Epoch 1/1\n",
      "7200/7200 [==============================] - 2s 225us/step - loss: 0.5795 - acc: 0.7949\n",
      "Epoch 1/1\n",
      "7200/7200 [==============================] - 2s 229us/step - loss: 0.5757 - acc: 0.7953\n",
      "Epoch 1/1\n",
      "7200/7200 [==============================] - 2s 239us/step - loss: 0.6028 - acc: 0.7944\n",
      "Epoch 1/1\n",
      "7200/7200 [==============================] - 2s 242us/step - loss: 0.5674 - acc: 0.7957\n",
      "Epoch 1/1\n",
      "7200/7200 [==============================] - 2s 243us/step - loss: 0.6249 - acc: 0.7926\n",
      "Epoch 1/1\n",
      "7200/7200 [==============================] - 2s 248us/step - loss: 0.6040 - acc: 0.7917\n",
      "Epoch 1/1\n",
      "7200/7200 [==============================] - 2s 257us/step - loss: 0.5663 - acc: 0.7969\n",
      "Epoch 1/1\n",
      "7200/7200 [==============================] - 2s 260us/step - loss: 0.6054 - acc: 0.7940\n",
      "Epoch 1/1\n",
      "7200/7200 [==============================] - 2s 264us/step - loss: 0.5640 - acc: 0.7954\n",
      "Epoch 1/1\n",
      "7200/7200 [==============================] - 2s 264us/step - loss: 0.6011 - acc: 0.7937\n",
      "Epoch 1/1\n",
      "7200/7200 [==============================] - 2s 267us/step - loss: 0.6373 - acc: 0.7932\n",
      "Epoch 1/1\n",
      "7200/7200 [==============================] - 2s 272us/step - loss: 0.6068 - acc: 0.7961\n",
      "Epoch 1/1\n",
      "7200/7200 [==============================] - 2s 275us/step - loss: 0.5950 - acc: 0.7940\n",
      "Epoch 1/1\n",
      "7200/7200 [==============================] - 2s 285us/step - loss: 0.5803 - acc: 0.7958\n",
      "Epoch 1/1\n",
      "7200/7200 [==============================] - 2s 285us/step - loss: 0.5979 - acc: 0.7908\n",
      "Epoch 1/1\n",
      "7200/7200 [==============================] - 2s 298us/step - loss: 0.5831 - acc: 0.7944\n",
      "Epoch 1/1\n",
      "7200/7200 [==============================] - 2s 307us/step - loss: 0.6032 - acc: 0.7954\n",
      "Epoch 1/1\n",
      "7200/7200 [==============================] - 2s 312us/step - loss: 0.5803 - acc: 0.7960\n",
      "Epoch 1/1\n",
      "7200/7200 [==============================] - 2s 318us/step - loss: 0.5790 - acc: 0.7956\n",
      "Epoch 1/1\n",
      "7200/7200 [==============================] - 2s 320us/step - loss: 0.5835 - acc: 0.7956\n",
      "Epoch 1/1\n",
      "7200/7200 [==============================] - 2s 321us/step - loss: 0.6007 - acc: 0.7957\n",
      "Epoch 1/1\n",
      "7200/7200 [==============================] - 2s 323us/step - loss: 0.6155 - acc: 0.7947\n",
      "Epoch 1/1\n",
      "7200/7200 [==============================] - 2s 327us/step - loss: 0.6051 - acc: 0.7944\n",
      "Epoch 1/1\n",
      "7200/7200 [==============================] - 2s 333us/step - loss: 0.6017 - acc: 0.7957\n",
      "Epoch 1/1\n",
      "7200/7200 [==============================] - 2s 334us/step - loss: 0.6414 - acc: 0.7904\n",
      "Epoch 1/1\n",
      "7200/7200 [==============================] - 2s 336us/step - loss: 0.6076 - acc: 0.7928\n",
      "Epoch 1/1\n",
      "7200/7200 [==============================] - 2s 347us/step - loss: 0.5891 - acc: 0.7969\n",
      "Epoch 1/1\n",
      "7200/7200 [==============================] - 3s 355us/step - loss: 0.5927 - acc: 0.7950\n",
      "Epoch 1/1\n",
      "7200/7200 [==============================] - 3s 363us/step - loss: 0.6102 - acc: 0.7932\n",
      "Epoch 1/1\n",
      "7200/7200 [==============================] - 3s 375us/step - loss: 0.5879 - acc: 0.7961\n",
      "Epoch 1/1\n",
      "7200/7200 [==============================] - 3s 387us/step - loss: 0.5973 - acc: 0.7950\n",
      "Epoch 1/1\n",
      "7200/7200 [==============================] - 3s 388us/step - loss: 0.5787 - acc: 0.7967\n",
      "Epoch 1/1\n",
      "7200/7200 [==============================] - 3s 383us/step - loss: 0.6148 - acc: 0.7932\n",
      "Epoch 1/1\n",
      "7200/7200 [==============================] - 3s 396us/step - loss: 0.5796 - acc: 0.7976\n",
      "Epoch 1/1\n",
      "7200/7200 [==============================] - 3s 401us/step - loss: 0.5675 - acc: 0.7937\n",
      "Epoch 1/1\n",
      "7200/7200 [==============================] - 3s 408us/step - loss: 0.6132 - acc: 0.7932\n",
      "Epoch 1/1\n",
      "7200/7200 [==============================] - 3s 428us/step - loss: 0.5857 - acc: 0.7967\n",
      "Epoch 1/1\n",
      "7200/7200 [==============================] - 3s 430us/step - loss: 0.5837 - acc: 0.7944\n",
      "Epoch 1/1\n",
      "7200/7200 [==============================] - 3s 433us/step - loss: 0.5896 - acc: 0.7947\n",
      "Epoch 1/1\n",
      "7200/7200 [==============================] - 3s 438us/step - loss: 0.6078 - acc: 0.7950\n",
      "Epoch 1/1\n",
      "7200/7200 [==============================] - 3s 425us/step - loss: 0.6132 - acc: 0.7949\n",
      "Epoch 1/1\n",
      "7200/7200 [==============================] - 3s 430us/step - loss: 0.5964 - acc: 0.7967\n",
      "Epoch 1/1\n",
      "7200/7200 [==============================] - 3s 439us/step - loss: 0.5916 - acc: 0.7956\n",
      "Epoch 1/1\n",
      "7200/7200 [==============================] - 3s 436us/step - loss: 0.5948 - acc: 0.7962\n",
      "Epoch 1/1\n",
      "7200/7200 [==============================] - 3s 444us/step - loss: 0.6127 - acc: 0.7917\n",
      "Epoch 1/1\n",
      "7200/7200 [==============================] - 3s 443us/step - loss: 0.6334 - acc: 0.7910\n",
      "Epoch 1/1\n",
      "7200/7200 [==============================] - 3s 451us/step - loss: 0.6109 - acc: 0.7961\n",
      "Epoch 1/1\n",
      "7200/7200 [==============================] - 3s 460us/step - loss: 0.6083 - acc: 0.7956\n",
      "Epoch 1/1\n",
      "7200/7200 [==============================] - 3s 470us/step - loss: 0.6222 - acc: 0.7950\n"
     ]
    }
   ],
   "source": [
    "parameters = {'batch_size': [25,32], \n",
    "              'nb_epoch': [100,500],\n",
    "             'optimizer': ['adam','rmsprop']}\n",
    "\n",
    "grid_search = GridSearchCV(estimator = classifier, param_grid = parameters, scoring = 'accuracy', cv = 10)\n",
    "grid_search = grid_search.fit(X_train, y_train)\n",
    "\n",
    "best_parameters =  grid_search.best_params_\n",
    "best_accuracy = grid_search.best_score_"
   ]
  },
  {
   "cell_type": "code",
   "execution_count": null,
   "metadata": {},
   "outputs": [],
   "source": []
  }
 ],
 "metadata": {
  "kernelspec": {
   "display_name": "Python 3",
   "language": "python",
   "name": "python3"
  },
  "language_info": {
   "codemirror_mode": {
    "name": "ipython",
    "version": 3
   },
   "file_extension": ".py",
   "mimetype": "text/x-python",
   "name": "python",
   "nbconvert_exporter": "python",
   "pygments_lexer": "ipython3",
   "version": "3.7.4"
  }
 },
 "nbformat": 4,
 "nbformat_minor": 2
}
