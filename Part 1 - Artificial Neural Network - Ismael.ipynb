{
 "cells": [
  {
   "cell_type": "code",
   "execution_count": 1,
   "metadata": {},
   "outputs": [
    {
     "data": {
      "text/html": [
       "<div>\n",
       "<style scoped>\n",
       "    .dataframe tbody tr th:only-of-type {\n",
       "        vertical-align: middle;\n",
       "    }\n",
       "\n",
       "    .dataframe tbody tr th {\n",
       "        vertical-align: top;\n",
       "    }\n",
       "\n",
       "    .dataframe thead th {\n",
       "        text-align: right;\n",
       "    }\n",
       "</style>\n",
       "<table border=\"1\" class=\"dataframe\">\n",
       "  <thead>\n",
       "    <tr style=\"text-align: right;\">\n",
       "      <th></th>\n",
       "      <th>RowNumber</th>\n",
       "      <th>CustomerId</th>\n",
       "      <th>Surname</th>\n",
       "      <th>CreditScore</th>\n",
       "      <th>Geography</th>\n",
       "      <th>Gender</th>\n",
       "      <th>Age</th>\n",
       "      <th>Tenure</th>\n",
       "      <th>Balance</th>\n",
       "      <th>NumOfProducts</th>\n",
       "      <th>HasCrCard</th>\n",
       "      <th>IsActiveMember</th>\n",
       "      <th>EstimatedSalary</th>\n",
       "      <th>Exited</th>\n",
       "    </tr>\n",
       "  </thead>\n",
       "  <tbody>\n",
       "    <tr>\n",
       "      <th>0</th>\n",
       "      <td>1</td>\n",
       "      <td>15634602</td>\n",
       "      <td>Hargrave</td>\n",
       "      <td>619</td>\n",
       "      <td>France</td>\n",
       "      <td>Female</td>\n",
       "      <td>42</td>\n",
       "      <td>2</td>\n",
       "      <td>0.00</td>\n",
       "      <td>1</td>\n",
       "      <td>1</td>\n",
       "      <td>1</td>\n",
       "      <td>101348.88</td>\n",
       "      <td>1</td>\n",
       "    </tr>\n",
       "    <tr>\n",
       "      <th>1</th>\n",
       "      <td>2</td>\n",
       "      <td>15647311</td>\n",
       "      <td>Hill</td>\n",
       "      <td>608</td>\n",
       "      <td>Spain</td>\n",
       "      <td>Female</td>\n",
       "      <td>41</td>\n",
       "      <td>1</td>\n",
       "      <td>83807.86</td>\n",
       "      <td>1</td>\n",
       "      <td>0</td>\n",
       "      <td>1</td>\n",
       "      <td>112542.58</td>\n",
       "      <td>0</td>\n",
       "    </tr>\n",
       "    <tr>\n",
       "      <th>2</th>\n",
       "      <td>3</td>\n",
       "      <td>15619304</td>\n",
       "      <td>Onio</td>\n",
       "      <td>502</td>\n",
       "      <td>France</td>\n",
       "      <td>Female</td>\n",
       "      <td>42</td>\n",
       "      <td>8</td>\n",
       "      <td>159660.80</td>\n",
       "      <td>3</td>\n",
       "      <td>1</td>\n",
       "      <td>0</td>\n",
       "      <td>113931.57</td>\n",
       "      <td>1</td>\n",
       "    </tr>\n",
       "  </tbody>\n",
       "</table>\n",
       "</div>"
      ],
      "text/plain": [
       "   RowNumber  CustomerId   Surname  CreditScore Geography  Gender  Age  \\\n",
       "0          1    15634602  Hargrave          619    France  Female   42   \n",
       "1          2    15647311      Hill          608     Spain  Female   41   \n",
       "2          3    15619304      Onio          502    France  Female   42   \n",
       "\n",
       "   Tenure    Balance  NumOfProducts  HasCrCard  IsActiveMember  \\\n",
       "0       2       0.00              1          1               1   \n",
       "1       1   83807.86              1          0               1   \n",
       "2       8  159660.80              3          1               0   \n",
       "\n",
       "   EstimatedSalary  Exited  \n",
       "0        101348.88       1  \n",
       "1        112542.58       0  \n",
       "2        113931.57       1  "
      ]
     },
     "execution_count": 1,
     "metadata": {},
     "output_type": "execute_result"
    }
   ],
   "source": [
    "# %load classification_template.py\n",
    "# Classification template\n",
    "\n",
    "# Importing the libraries\n",
    "import numpy as np\n",
    "import matplotlib.pyplot as plt\n",
    "import pandas as pd\n",
    "\n",
    "# Importing the dataset\n",
    "dataset = pd.read_csv('Churn_Modelling.csv')\n",
    "dataset.head(3)"
   ]
  },
  {
   "cell_type": "markdown",
   "metadata": {},
   "source": [
    "## Part 1: Data Pre-processing"
   ]
  },
  {
   "cell_type": "code",
   "execution_count": 2,
   "metadata": {},
   "outputs": [],
   "source": [
    "#Selecting the independent and dependent variables based on which independent have impact in the dependent\n",
    "\n",
    "X = dataset.iloc[:, 3:13].values #Independent variables 3 to 12 (note we wrote 13 because isn't included)\n",
    "y = dataset.iloc[:, 13].values  #Dependant variable"
   ]
  },
  {
   "cell_type": "code",
   "execution_count": 3,
   "metadata": {},
   "outputs": [],
   "source": [
    "# %load categorical_data.py\n",
    "# Data Preprocessing\n",
    "\n",
    "# Encoding categorical data\n",
    "# Encoding the Independent Variable\n",
    "from sklearn.preprocessing import LabelEncoder, OneHotEncoder\n",
    "labelencoder_X_1 = LabelEncoder()\n",
    "X[:, 1] = labelencoder_X_1.fit_transform(X[:, 1])\n",
    "\n",
    "labelencoder_X_2 = LabelEncoder()\n",
    "X[:, 2] = labelencoder_X_2.fit_transform(X[:, 2])"
   ]
  },
  {
   "cell_type": "code",
   "execution_count": 4,
   "metadata": {},
   "outputs": [
    {
     "name": "stderr",
     "output_type": "stream",
     "text": [
      "/Library/Frameworks/Python.framework/Versions/3.7/lib/python3.7/site-packages/sklearn/preprocessing/_encoders.py:415: FutureWarning: The handling of integer data will change in version 0.22. Currently, the categories are determined based on the range [0, max(values)], while in the future they will be determined based on the unique values.\n",
      "If you want the future behaviour and silence this warning, you can specify \"categories='auto'\".\n",
      "In case you used a LabelEncoder before this OneHotEncoder to convert the categories to integers, then you can now use the OneHotEncoder directly.\n",
      "  warnings.warn(msg, FutureWarning)\n",
      "/Library/Frameworks/Python.framework/Versions/3.7/lib/python3.7/site-packages/sklearn/preprocessing/_encoders.py:451: DeprecationWarning: The 'categorical_features' keyword is deprecated in version 0.20 and will be removed in 0.22. You can use the ColumnTransformer instead.\n",
      "  \"use the ColumnTransformer instead.\", DeprecationWarning)\n"
     ]
    }
   ],
   "source": [
    "# This makes dummy variables, which fixes that when encoding categorical data, 2>0 and that tricks the neural network,\n",
    "# and also any machine learning model.\n",
    "\n",
    "# Because we have 3 different values in country, it creates 3 columns with the dummy variables.\n",
    "\n",
    "onehotencoder = OneHotEncoder(categorical_features = [1])\n",
    "X = onehotencoder.fit_transform(X).toarray()"
   ]
  },
  {
   "cell_type": "code",
   "execution_count": 5,
   "metadata": {},
   "outputs": [
    {
     "data": {
      "text/plain": [
       "array([[0.0000000e+00, 0.0000000e+00, 6.1900000e+02, ..., 1.0000000e+00,\n",
       "        1.0000000e+00, 1.0134888e+05],\n",
       "       [0.0000000e+00, 1.0000000e+00, 6.0800000e+02, ..., 0.0000000e+00,\n",
       "        1.0000000e+00, 1.1254258e+05],\n",
       "       [0.0000000e+00, 0.0000000e+00, 5.0200000e+02, ..., 1.0000000e+00,\n",
       "        0.0000000e+00, 1.1393157e+05],\n",
       "       ...,\n",
       "       [0.0000000e+00, 0.0000000e+00, 7.0900000e+02, ..., 0.0000000e+00,\n",
       "        1.0000000e+00, 4.2085580e+04],\n",
       "       [1.0000000e+00, 0.0000000e+00, 7.7200000e+02, ..., 1.0000000e+00,\n",
       "        0.0000000e+00, 9.2888520e+04],\n",
       "       [0.0000000e+00, 0.0000000e+00, 7.9200000e+02, ..., 1.0000000e+00,\n",
       "        0.0000000e+00, 3.8190780e+04]])"
      ]
     },
     "execution_count": 5,
     "metadata": {},
     "output_type": "execute_result"
    }
   ],
   "source": [
    "X = X[:,1:]\n",
    "X"
   ]
  },
  {
   "cell_type": "code",
   "execution_count": 6,
   "metadata": {},
   "outputs": [],
   "source": [
    "# Splitting the dataset into the Training set and Test set\n",
    "from sklearn.model_selection import train_test_split\n",
    "X_train, X_test, y_train, y_test = train_test_split(X, y, test_size = 0.2, random_state = 0)"
   ]
  },
  {
   "cell_type": "code",
   "execution_count": 7,
   "metadata": {},
   "outputs": [],
   "source": [
    "# Feature Scaling\n",
    "from sklearn.preprocessing import StandardScaler\n",
    "sc = StandardScaler()\n",
    "X_train = sc.fit_transform(X_train)\n",
    "X_test = sc.transform(X_test)"
   ]
  },
  {
   "cell_type": "markdown",
   "metadata": {},
   "source": [
    "## Part 2: Building the ANN"
   ]
  },
  {
   "cell_type": "code",
   "execution_count": 8,
   "metadata": {},
   "outputs": [
    {
     "name": "stderr",
     "output_type": "stream",
     "text": [
      "Using TensorFlow backend.\n"
     ]
    }
   ],
   "source": [
    "# Importing needed modules\n",
    "\n",
    "import keras\n",
    "from keras.models import Sequential\n",
    "from keras.layers import Dense\n",
    "from keras.layers import Dropout"
   ]
  },
  {
   "cell_type": "code",
   "execution_count": 9,
   "metadata": {},
   "outputs": [
    {
     "name": "stderr",
     "output_type": "stream",
     "text": [
      "WARNING: Logging before flag parsing goes to stderr.\n",
      "W0920 20:21:11.867008 4504933824 deprecation_wrapper.py:119] From /Library/Frameworks/Python.framework/Versions/3.7/lib/python3.7/site-packages/keras/backend/tensorflow_backend.py:74: The name tf.get_default_graph is deprecated. Please use tf.compat.v1.get_default_graph instead.\n",
      "\n"
     ]
    }
   ],
   "source": [
    "# Initializing the ANN ( Building the Layers )\n",
    "\n",
    "classifier = Sequential()"
   ]
  },
  {
   "cell_type": "code",
   "execution_count": 10,
   "metadata": {},
   "outputs": [],
   "source": [
    "# Creating the Layers of our ANN\n",
    "\n",
    "# Input Layer and First Hidden Layer WITH DROPOUT TO REDUCE OVERFITTING.\n",
    "\n",
    "classifier.add(Dense(units = 6,kernel_initializer = 'uniform',activation = 'relu'))\n",
    "# classifier.add(Dropout(rate = 0.1)) # First time try with 0.1. Never over 0.5."
   ]
  },
  {
   "cell_type": "code",
   "execution_count": 11,
   "metadata": {},
   "outputs": [],
   "source": [
    "# Second Hidden Layer\n",
    "\n",
    "classifier.add(Dense(units = 6,kernel_initializer = 'uniform',activation = 'relu'))\n",
    "# classifier.add(Dropout(rate = 0.1)) # First time try with 0.1. Never over 0.5."
   ]
  },
  {
   "cell_type": "code",
   "execution_count": 12,
   "metadata": {},
   "outputs": [],
   "source": [
    "# Output Layer\n",
    "\n",
    "classifier.add(Dense(units = 1,kernel_initializer = 'uniform',activation = 'sigmoid'))"
   ]
  },
  {
   "cell_type": "code",
   "execution_count": 13,
   "metadata": {},
   "outputs": [
    {
     "name": "stderr",
     "output_type": "stream",
     "text": [
      "W0920 20:21:11.907787 4504933824 deprecation_wrapper.py:119] From /Library/Frameworks/Python.framework/Versions/3.7/lib/python3.7/site-packages/keras/optimizers.py:790: The name tf.train.Optimizer is deprecated. Please use tf.compat.v1.train.Optimizer instead.\n",
      "\n"
     ]
    }
   ],
   "source": [
    "# Compiling the ANN\n",
    "\n",
    "classifier.compile(optimizer = 'adam', loss = 'binary_crossentropy', metrics = ['accuracy'])"
   ]
  },
  {
   "cell_type": "code",
   "execution_count": 14,
   "metadata": {},
   "outputs": [
    {
     "name": "stderr",
     "output_type": "stream",
     "text": [
      "W0920 20:21:11.933197 4504933824 deprecation_wrapper.py:119] From /Library/Frameworks/Python.framework/Versions/3.7/lib/python3.7/site-packages/keras/backend/tensorflow_backend.py:517: The name tf.placeholder is deprecated. Please use tf.compat.v1.placeholder instead.\n",
      "\n",
      "W0920 20:21:11.937522 4504933824 deprecation_wrapper.py:119] From /Library/Frameworks/Python.framework/Versions/3.7/lib/python3.7/site-packages/keras/backend/tensorflow_backend.py:4138: The name tf.random_uniform is deprecated. Please use tf.random.uniform instead.\n",
      "\n",
      "W0920 20:21:11.972266 4504933824 deprecation_wrapper.py:119] From /Library/Frameworks/Python.framework/Versions/3.7/lib/python3.7/site-packages/keras/backend/tensorflow_backend.py:3376: The name tf.log is deprecated. Please use tf.math.log instead.\n",
      "\n",
      "W0920 20:21:11.976411 4504933824 deprecation.py:323] From /Library/Frameworks/Python.framework/Versions/3.7/lib/python3.7/site-packages/tensorflow/python/ops/nn_impl.py:180: add_dispatch_support.<locals>.wrapper (from tensorflow.python.ops.array_ops) is deprecated and will be removed in a future version.\n",
      "Instructions for updating:\n",
      "Use tf.where in 2.0, which has the same broadcast rule as np.where\n",
      "W0920 20:21:12.132839 4504933824 deprecation_wrapper.py:119] From /Library/Frameworks/Python.framework/Versions/3.7/lib/python3.7/site-packages/keras/backend/tensorflow_backend.py:986: The name tf.assign_add is deprecated. Please use tf.compat.v1.assign_add instead.\n",
      "\n"
     ]
    },
    {
     "name": "stdout",
     "output_type": "stream",
     "text": [
      "Epoch 1/100\n",
      "8000/8000 [==============================] - 1s 115us/step - loss: 0.4862 - acc: 0.7957\n",
      "Epoch 2/100\n",
      "8000/8000 [==============================] - 1s 74us/step - loss: 0.4307 - acc: 0.7960\n",
      "Epoch 3/100\n",
      "8000/8000 [==============================] - 1s 79us/step - loss: 0.4282 - acc: 0.7960\n",
      "Epoch 4/100\n",
      "8000/8000 [==============================] - 1s 74us/step - loss: 0.4231 - acc: 0.8127\n",
      "Epoch 5/100\n",
      "8000/8000 [==============================] - 1s 68us/step - loss: 0.4152 - acc: 0.8282\n",
      "Epoch 6/100\n",
      "8000/8000 [==============================] - 1s 70us/step - loss: 0.4096 - acc: 0.8315\n",
      "Epoch 7/100\n",
      "8000/8000 [==============================] - 1s 68us/step - loss: 0.4068 - acc: 0.8334\n",
      "Epoch 8/100\n",
      "8000/8000 [==============================] - 1s 66us/step - loss: 0.4044 - acc: 0.8349\n",
      "Epoch 9/100\n",
      "8000/8000 [==============================] - 1s 72us/step - loss: 0.4025 - acc: 0.8362\n",
      "Epoch 10/100\n",
      "8000/8000 [==============================] - 1s 69us/step - loss: 0.4017 - acc: 0.8340\n",
      "Epoch 11/100\n",
      "8000/8000 [==============================] - 1s 69us/step - loss: 0.4007 - acc: 0.8342\n",
      "Epoch 12/100\n",
      "8000/8000 [==============================] - 1s 71us/step - loss: 0.3992 - acc: 0.8331\n",
      "Epoch 13/100\n",
      "8000/8000 [==============================] - 1s 71us/step - loss: 0.3989 - acc: 0.8337\n",
      "Epoch 14/100\n",
      "8000/8000 [==============================] - 1s 71us/step - loss: 0.3978 - acc: 0.8341\n",
      "Epoch 15/100\n",
      "8000/8000 [==============================] - 1s 76us/step - loss: 0.3974 - acc: 0.8350\n",
      "Epoch 16/100\n",
      "8000/8000 [==============================] - 1s 87us/step - loss: 0.3965 - acc: 0.8342\n",
      "Epoch 17/100\n",
      "8000/8000 [==============================] - 1s 75us/step - loss: 0.3971 - acc: 0.8362\n",
      "Epoch 18/100\n",
      "8000/8000 [==============================] - 1s 74us/step - loss: 0.3963 - acc: 0.8359\n",
      "Epoch 19/100\n",
      "8000/8000 [==============================] - 1s 74us/step - loss: 0.3960 - acc: 0.8362\n",
      "Epoch 20/100\n",
      "8000/8000 [==============================] - 1s 74us/step - loss: 0.3955 - acc: 0.8361\n",
      "Epoch 21/100\n",
      "8000/8000 [==============================] - 1s 74us/step - loss: 0.3948 - acc: 0.8366\n",
      "Epoch 22/100\n",
      "8000/8000 [==============================] - 1s 74us/step - loss: 0.3940 - acc: 0.8361\n",
      "Epoch 23/100\n",
      "8000/8000 [==============================] - 1s 75us/step - loss: 0.3928 - acc: 0.8387\n",
      "Epoch 24/100\n",
      "8000/8000 [==============================] - 1s 78us/step - loss: 0.3912 - acc: 0.8404\n",
      "Epoch 25/100\n",
      "8000/8000 [==============================] - 1s 74us/step - loss: 0.3898 - acc: 0.8412\n",
      "Epoch 26/100\n",
      "8000/8000 [==============================] - 1s 75us/step - loss: 0.3878 - acc: 0.8402\n",
      "Epoch 27/100\n",
      "8000/8000 [==============================] - 1s 75us/step - loss: 0.3852 - acc: 0.8410: 0s - loss: 0.3852 - acc: \n",
      "Epoch 28/100\n",
      "8000/8000 [==============================] - 1s 75us/step - loss: 0.3826 - acc: 0.8416\n",
      "Epoch 29/100\n",
      "8000/8000 [==============================] - 1s 75us/step - loss: 0.3807 - acc: 0.8391: 0s - loss: 0.3798 - acc: 0.\n",
      "Epoch 30/100\n",
      "8000/8000 [==============================] - 1s 75us/step - loss: 0.3774 - acc: 0.8410\n",
      "Epoch 31/100\n",
      "8000/8000 [==============================] - 1s 74us/step - loss: 0.3761 - acc: 0.8406\n",
      "Epoch 32/100\n",
      "8000/8000 [==============================] - 1s 78us/step - loss: 0.3745 - acc: 0.8409\n",
      "Epoch 33/100\n",
      "8000/8000 [==============================] - 1s 75us/step - loss: 0.3734 - acc: 0.8407\n",
      "Epoch 34/100\n",
      "8000/8000 [==============================] - 1s 76us/step - loss: 0.3714 - acc: 0.8452: 0s - loss: 0.3714 - acc: 0\n",
      "Epoch 35/100\n",
      "8000/8000 [==============================] - 1s 72us/step - loss: 0.3698 - acc: 0.8425\n",
      "Epoch 36/100\n",
      "8000/8000 [==============================] - 1s 76us/step - loss: 0.3693 - acc: 0.8422\n",
      "Epoch 37/100\n",
      "8000/8000 [==============================] - 1s 75us/step - loss: 0.3674 - acc: 0.8446\n",
      "Epoch 38/100\n",
      "8000/8000 [==============================] - 1s 74us/step - loss: 0.3672 - acc: 0.8440\n",
      "Epoch 39/100\n",
      "8000/8000 [==============================] - 1s 75us/step - loss: 0.3653 - acc: 0.8460\n",
      "Epoch 40/100\n",
      "8000/8000 [==============================] - 1s 76us/step - loss: 0.3646 - acc: 0.8451\n",
      "Epoch 41/100\n",
      "8000/8000 [==============================] - 1s 75us/step - loss: 0.3638 - acc: 0.8465: 0s - loss: 0.3631 - acc: 0.\n",
      "Epoch 42/100\n",
      "8000/8000 [==============================] - 1s 71us/step - loss: 0.3629 - acc: 0.8479\n",
      "Epoch 43/100\n",
      "8000/8000 [==============================] - 1s 77us/step - loss: 0.3613 - acc: 0.8459\n",
      "Epoch 44/100\n",
      "8000/8000 [==============================] - 1s 75us/step - loss: 0.3599 - acc: 0.8482\n",
      "Epoch 45/100\n",
      "8000/8000 [==============================] - 1s 72us/step - loss: 0.3585 - acc: 0.8520\n",
      "Epoch 46/100\n",
      "8000/8000 [==============================] - 1s 70us/step - loss: 0.3550 - acc: 0.8525\n",
      "Epoch 47/100\n",
      "8000/8000 [==============================] - 1s 75us/step - loss: 0.3553 - acc: 0.8529\n",
      "Epoch 48/100\n",
      "8000/8000 [==============================] - 1s 76us/step - loss: 0.3528 - acc: 0.8529: 0s - loss: 0.3544 - acc: 0.\n",
      "Epoch 49/100\n",
      "8000/8000 [==============================] - 1s 75us/step - loss: 0.3523 - acc: 0.8551\n",
      "Epoch 50/100\n",
      "8000/8000 [==============================] - 1s 75us/step - loss: 0.3504 - acc: 0.8580: 0s - loss: 0.3507 - acc: 0.858\n",
      "Epoch 51/100\n",
      "8000/8000 [==============================] - 1s 74us/step - loss: 0.3491 - acc: 0.8559\n",
      "Epoch 52/100\n",
      "8000/8000 [==============================] - 1s 74us/step - loss: 0.3481 - acc: 0.8576\n",
      "Epoch 53/100\n",
      "8000/8000 [==============================] - 1s 72us/step - loss: 0.3470 - acc: 0.8591\n",
      "Epoch 54/100\n",
      "8000/8000 [==============================] - 1s 73us/step - loss: 0.3460 - acc: 0.8561: 0s - loss: 0.3483 - acc: 0.85\n",
      "Epoch 55/100\n",
      "8000/8000 [==============================] - 1s 73us/step - loss: 0.3477 - acc: 0.8569\n",
      "Epoch 56/100\n",
      "8000/8000 [==============================] - 1s 71us/step - loss: 0.3462 - acc: 0.8564\n",
      "Epoch 57/100\n",
      "8000/8000 [==============================] - 1s 78us/step - loss: 0.3459 - acc: 0.8565\n",
      "Epoch 58/100\n",
      "8000/8000 [==============================] - 1s 76us/step - loss: 0.3446 - acc: 0.8580\n",
      "Epoch 59/100\n",
      "8000/8000 [==============================] - 1s 72us/step - loss: 0.3445 - acc: 0.8590\n",
      "Epoch 60/100\n",
      "8000/8000 [==============================] - 1s 72us/step - loss: 0.3440 - acc: 0.8584\n",
      "Epoch 61/100\n",
      "8000/8000 [==============================] - 1s 72us/step - loss: 0.3446 - acc: 0.8580\n",
      "Epoch 62/100\n",
      "8000/8000 [==============================] - 1s 72us/step - loss: 0.3436 - acc: 0.8584\n",
      "Epoch 63/100\n",
      "8000/8000 [==============================] - 1s 71us/step - loss: 0.3436 - acc: 0.8584\n",
      "Epoch 64/100\n",
      "8000/8000 [==============================] - 1s 72us/step - loss: 0.3434 - acc: 0.8574\n",
      "Epoch 65/100\n",
      "8000/8000 [==============================] - 1s 71us/step - loss: 0.3424 - acc: 0.8607\n",
      "Epoch 66/100\n",
      "8000/8000 [==============================] - 1s 77us/step - loss: 0.3435 - acc: 0.8580\n",
      "Epoch 67/100\n",
      "8000/8000 [==============================] - 1s 82us/step - loss: 0.3428 - acc: 0.8605\n",
      "Epoch 68/100\n",
      "8000/8000 [==============================] - 1s 78us/step - loss: 0.3431 - acc: 0.8600\n",
      "Epoch 69/100\n",
      "8000/8000 [==============================] - 1s 69us/step - loss: 0.3433 - acc: 0.8562\n",
      "Epoch 70/100\n",
      "8000/8000 [==============================] - 1s 70us/step - loss: 0.3413 - acc: 0.8597\n",
      "Epoch 71/100\n",
      "8000/8000 [==============================] - 1s 73us/step - loss: 0.3418 - acc: 0.8597\n",
      "Epoch 72/100\n",
      "8000/8000 [==============================] - 1s 72us/step - loss: 0.3428 - acc: 0.8597\n",
      "Epoch 73/100\n",
      "8000/8000 [==============================] - 1s 72us/step - loss: 0.3423 - acc: 0.8590\n",
      "Epoch 74/100\n",
      "8000/8000 [==============================] - 1s 72us/step - loss: 0.3427 - acc: 0.8610\n",
      "Epoch 75/100\n",
      "8000/8000 [==============================] - 1s 72us/step - loss: 0.3412 - acc: 0.8597\n",
      "Epoch 76/100\n",
      "8000/8000 [==============================] - 1s 76us/step - loss: 0.3423 - acc: 0.8597\n",
      "Epoch 77/100\n",
      "8000/8000 [==============================] - 1s 74us/step - loss: 0.3413 - acc: 0.8592\n",
      "Epoch 78/100\n",
      "8000/8000 [==============================] - 1s 72us/step - loss: 0.3415 - acc: 0.8612\n",
      "Epoch 79/100\n",
      "8000/8000 [==============================] - 1s 72us/step - loss: 0.3412 - acc: 0.8599\n",
      "Epoch 80/100\n",
      "8000/8000 [==============================] - 1s 72us/step - loss: 0.3412 - acc: 0.8592\n"
     ]
    },
    {
     "name": "stdout",
     "output_type": "stream",
     "text": [
      "Epoch 81/100\n",
      "8000/8000 [==============================] - 1s 71us/step - loss: 0.3408 - acc: 0.8592\n",
      "Epoch 82/100\n",
      "8000/8000 [==============================] - 1s 71us/step - loss: 0.3411 - acc: 0.8606\n",
      "Epoch 83/100\n",
      "8000/8000 [==============================] - 1s 71us/step - loss: 0.3410 - acc: 0.8589\n",
      "Epoch 84/100\n",
      "8000/8000 [==============================] - 1s 73us/step - loss: 0.3413 - acc: 0.8590\n",
      "Epoch 85/100\n",
      "8000/8000 [==============================] - 1s 75us/step - loss: 0.3400 - acc: 0.8614\n",
      "Epoch 86/100\n",
      "8000/8000 [==============================] - 1s 68us/step - loss: 0.3402 - acc: 0.8599\n",
      "Epoch 87/100\n",
      "8000/8000 [==============================] - 1s 65us/step - loss: 0.3417 - acc: 0.8579\n",
      "Epoch 88/100\n",
      "8000/8000 [==============================] - 1s 69us/step - loss: 0.3404 - acc: 0.8609\n",
      "Epoch 89/100\n",
      "8000/8000 [==============================] - 1s 72us/step - loss: 0.3406 - acc: 0.8599\n",
      "Epoch 90/100\n",
      "8000/8000 [==============================] - 1s 76us/step - loss: 0.3411 - acc: 0.8615\n",
      "Epoch 91/100\n",
      "8000/8000 [==============================] - 1s 73us/step - loss: 0.3409 - acc: 0.8591\n",
      "Epoch 92/100\n",
      "8000/8000 [==============================] - 1s 71us/step - loss: 0.3408 - acc: 0.8585\n",
      "Epoch 93/100\n",
      "8000/8000 [==============================] - 1s 72us/step - loss: 0.3415 - acc: 0.8580\n",
      "Epoch 94/100\n",
      "8000/8000 [==============================] - 1s 72us/step - loss: 0.3407 - acc: 0.8584\n",
      "Epoch 95/100\n",
      "8000/8000 [==============================] - 1s 73us/step - loss: 0.3413 - acc: 0.8600\n",
      "Epoch 96/100\n",
      "8000/8000 [==============================] - 1s 72us/step - loss: 0.3415 - acc: 0.8579\n",
      "Epoch 97/100\n",
      "8000/8000 [==============================] - 1s 72us/step - loss: 0.3407 - acc: 0.8601\n",
      "Epoch 98/100\n",
      "8000/8000 [==============================] - 1s 72us/step - loss: 0.3407 - acc: 0.8605\n",
      "Epoch 99/100\n",
      "8000/8000 [==============================] - 1s 72us/step - loss: 0.3395 - acc: 0.8609: 0s - loss: 0.3401 - acc: 0.860\n",
      "Epoch 100/100\n",
      "8000/8000 [==============================] - 1s 71us/step - loss: 0.3409 - acc: 0.8590\n"
     ]
    },
    {
     "data": {
      "text/plain": [
       "<keras.callbacks.History at 0x13bee1050>"
      ]
     },
     "execution_count": 14,
     "metadata": {},
     "output_type": "execute_result"
    }
   ],
   "source": [
    "# Fitting the ANN to the Training set. TRAINING THE ANN.\n",
    "\n",
    "classifier.fit(X_train, y_train, batch_size=10, epochs=100)"
   ]
  },
  {
   "cell_type": "markdown",
   "metadata": {},
   "source": [
    "## Part 3: Making the Predictions and Evaluating the Model"
   ]
  },
  {
   "cell_type": "code",
   "execution_count": 15,
   "metadata": {},
   "outputs": [],
   "source": [
    "# Predicting the Test set results\n",
    "y_pred = classifier.predict(X_test)"
   ]
  },
  {
   "cell_type": "code",
   "execution_count": 16,
   "metadata": {},
   "outputs": [],
   "source": [
    "y_pred = (y_pred > 0.5) # Convertimos en TRUE o FALSE si se van o se quedan, al ser Classification Model."
   ]
  },
  {
   "cell_type": "code",
   "execution_count": 17,
   "metadata": {},
   "outputs": [],
   "source": [
    "# Making the Confusion Matrix\n",
    "from sklearn.metrics import confusion_matrix\n",
    "cm = confusion_matrix(y_test, y_pred)"
   ]
  },
  {
   "cell_type": "code",
   "execution_count": 18,
   "metadata": {},
   "outputs": [
    {
     "data": {
      "text/plain": [
       "array([[1483,  112],\n",
       "       [ 183,  222]])"
      ]
     },
     "execution_count": 18,
     "metadata": {},
     "output_type": "execute_result"
    }
   ],
   "source": [
    "cm"
   ]
  },
  {
   "cell_type": "code",
   "execution_count": 19,
   "metadata": {},
   "outputs": [
    {
     "data": {
      "text/plain": [
       "0.874"
      ]
     },
     "execution_count": 19,
     "metadata": {},
     "output_type": "execute_result"
    }
   ],
   "source": [
    "Accuracy = (1552+196)/(2000)  #Diagonal principal es los acertados y la no principal los fallados\n",
    "Accuracy"
   ]
  },
  {
   "cell_type": "markdown",
   "metadata": {},
   "source": [
    "## Homework: Predict if one customer will leave the bank"
   ]
  },
  {
   "cell_type": "code",
   "execution_count": 20,
   "metadata": {},
   "outputs": [],
   "source": [
    "new_prediction = classifier.predict(sc.transform(np.array([[0, 0, 600, 1, 40, 3, 60000, 2, 1, 1, 50000]])))"
   ]
  },
  {
   "cell_type": "code",
   "execution_count": 21,
   "metadata": {},
   "outputs": [
    {
     "data": {
      "text/plain": [
       "array([[False]])"
      ]
     },
     "execution_count": 21,
     "metadata": {},
     "output_type": "execute_result"
    }
   ],
   "source": [
    "new_prediction = (new_prediction > 0.5)\n",
    "new_prediction"
   ]
  },
  {
   "cell_type": "markdown",
   "metadata": {},
   "source": [
    "## Part 4: Evaluating, Improving and Tuning the ANN"
   ]
  },
  {
   "cell_type": "code",
   "execution_count": 22,
   "metadata": {},
   "outputs": [],
   "source": [
    "# Evaluating the ANN (K-Fold Cross Validation)\n",
    "\n",
    "import keras\n",
    "from keras.models import Sequential\n",
    "from keras.layers import Dense\n",
    "from keras.layers import Dropout\n",
    "\n",
    "from keras.wrappers.scikit_learn import KerasClassifier\n",
    "from sklearn.model_selection import cross_val_score"
   ]
  },
  {
   "cell_type": "code",
   "execution_count": 23,
   "metadata": {},
   "outputs": [],
   "source": [
    "# This is called wrapping\n",
    "\n",
    "def build_classifier():\n",
    "    classifier = Sequential()\n",
    "    classifier.add(Dense(units = 6,kernel_initializer = 'uniform',activation = 'relu'))\n",
    "    classifier.add(Dense(units = 6,kernel_initializer = 'uniform',activation = 'relu'))\n",
    "    classifier.add(Dense(units = 1,kernel_initializer = 'uniform',activation = 'sigmoid'))\n",
    "    classifier.compile(optimizer = 'adam', loss = 'binary_crossentropy', metrics = ['accuracy'])\n",
    "    \n",
    "    return classifier\n",
    "\n",
    "\n",
    "classifier = KerasClassifier(build_fn = build_classifier, batch_size = 10, nb_epoch = 100)\n",
    "\n",
    "accuracies = cross_val_score(estimator = classifier, X = X_train, y = y_train, cv = 10,\n",
    "                             n_jobs = -1)#n_jobs = núcleos cpu a usar\n"
   ]
  },
  {
   "cell_type": "code",
   "execution_count": 24,
   "metadata": {},
   "outputs": [
    {
     "name": "stdout",
     "output_type": "stream",
     "text": [
      "0.7959999969601632 0.010105690620981692\n"
     ]
    }
   ],
   "source": [
    "mean = accuracies.mean()\n",
    "variance = accuracies.std()\n",
    "print(mean, variance)"
   ]
  },
  {
   "cell_type": "code",
   "execution_count": 25,
   "metadata": {},
   "outputs": [],
   "source": [
    "# Tuning the ANN\n",
    "\n",
    "import keras\n",
    "from keras.models import Sequential\n",
    "from keras.layers import Dense\n",
    "\n",
    "from keras.wrappers.scikit_learn import KerasClassifier\n",
    "from sklearn.model_selection import GridSearchCV"
   ]
  },
  {
   "cell_type": "code",
   "execution_count": 26,
   "metadata": {},
   "outputs": [],
   "source": [
    "def build_classifier(optimizer):\n",
    "    classifier = Sequential()\n",
    "    classifier.add(Dense(units = 6,kernel_initializer = 'uniform',activation = 'relu'))\n",
    "    classifier.add(Dense(units = 6,kernel_initializer = 'uniform',activation = 'relu'))\n",
    "    classifier.add(Dense(units = 1,kernel_initializer = 'uniform',activation = 'sigmoid'))\n",
    "    classifier.compile(optimizer = optimizer, loss = 'binary_crossentropy', metrics = ['accuracy'])\n",
    "    \n",
    "    return classifier\n",
    "\n",
    "\n",
    "classifier = KerasClassifier(build_fn = build_classifier)"
   ]
  },
  {
   "cell_type": "code",
   "execution_count": 27,
   "metadata": {},
   "outputs": [
    {
     "name": "stdout",
     "output_type": "stream",
     "text": [
      "Epoch 1/1\n",
      "7200/7200 [==============================] - 0s 61us/step - loss: 0.5534 - acc: 0.7968\n",
      "Epoch 1/1\n",
      "7200/7200 [==============================] - 0s 68us/step - loss: 0.5681 - acc: 0.7961\n",
      "Epoch 1/1\n",
      "7200/7200 [==============================] - 1s 72us/step - loss: 0.5411 - acc: 0.7956\n",
      "Epoch 1/1\n",
      "7200/7200 [==============================] - 1s 76us/step - loss: 0.5645 - acc: 0.7961\n",
      "Epoch 1/1\n",
      "7200/7200 [==============================] - 1s 82us/step - loss: 0.5469 - acc: 0.7937\n",
      "Epoch 1/1\n",
      "7200/7200 [==============================] - 1s 87us/step - loss: 0.5626 - acc: 0.7933\n",
      "Epoch 1/1\n",
      "7200/7200 [==============================] - 1s 93us/step - loss: 0.5743 - acc: 0.7951\n",
      "Epoch 1/1\n",
      "7200/7200 [==============================] - 1s 103us/step - loss: 0.5572 - acc: 0.7961\n",
      "Epoch 1/1\n",
      "7200/7200 [==============================] - 1s 108us/step - loss: 0.5667 - acc: 0.7953\n",
      "Epoch 1/1\n",
      "7200/7200 [==============================] - 1s 110us/step - loss: 0.5611 - acc: 0.7960\n",
      "Epoch 1/1\n",
      "7200/7200 [==============================] - 1s 109us/step - loss: 0.5742 - acc: 0.7957\n",
      "Epoch 1/1\n",
      "7200/7200 [==============================] - 1s 114us/step - loss: 0.5919 - acc: 0.7947\n",
      "Epoch 1/1\n",
      "7200/7200 [==============================] - 1s 117us/step - loss: 0.5852 - acc: 0.7933\n",
      "Epoch 1/1\n",
      "7200/7200 [==============================] - 1s 125us/step - loss: 0.5761 - acc: 0.7975\n",
      "Epoch 1/1\n",
      "7200/7200 [==============================] - 1s 127us/step - loss: 0.5798 - acc: 0.7917\n",
      "Epoch 1/1\n",
      "7200/7200 [==============================] - 1s 130us/step - loss: 0.5842 - acc: 0.7940\n",
      "Epoch 1/1\n",
      "7200/7200 [==============================] - 1s 134us/step - loss: 0.5590 - acc: 0.7967\n",
      "Epoch 1/1\n",
      "7200/7200 [==============================] - 1s 137us/step - loss: 0.5678 - acc: 0.7960\n",
      "Epoch 1/1\n",
      "7200/7200 [==============================] - 1s 145us/step - loss: 0.5854 - acc: 0.7956\n",
      "Epoch 1/1\n",
      "7200/7200 [==============================] - 1s 146us/step - loss: 0.5665 - acc: 0.7958\n",
      "Epoch 1/1\n",
      "7200/7200 [==============================] - 1s 156us/step - loss: 0.5549 - acc: 0.7965\n",
      "Epoch 1/1\n",
      "7200/7200 [==============================] - 1s 165us/step - loss: 0.5606 - acc: 0.7960\n",
      "Epoch 1/1\n",
      "7200/7200 [==============================] - 1s 170us/step - loss: 0.5803 - acc: 0.7953\n",
      "Epoch 1/1\n",
      "7200/7200 [==============================] - 1s 176us/step - loss: 0.5661 - acc: 0.7956\n",
      "Epoch 1/1\n",
      "7200/7200 [==============================] - 1s 182us/step - loss: 0.5691 - acc: 0.7929\n",
      "Epoch 1/1\n",
      "7200/7200 [==============================] - 1s 186us/step - loss: 0.5599 - acc: 0.7928\n",
      "Epoch 1/1\n",
      "7200/7200 [==============================] - 1s 195us/step - loss: 0.5444 - acc: 0.7960\n",
      "Epoch 1/1\n",
      "7200/7200 [==============================] - 1s 198us/step - loss: 0.5532 - acc: 0.7961\n",
      "Epoch 1/1\n",
      "7200/7200 [==============================] - 1s 204us/step - loss: 0.5658 - acc: 0.7956\n",
      "Epoch 1/1\n",
      "7200/7200 [==============================] - 2s 209us/step - loss: 0.6004 - acc: 0.7943\n",
      "Epoch 1/1\n",
      "7200/7200 [==============================] - 2s 216us/step - loss: 0.5813 - acc: 0.7961\n",
      "Epoch 1/1\n",
      "7200/7200 [==============================] - 2s 210us/step - loss: 0.5813 - acc: 0.7962\n",
      "Epoch 1/1\n",
      "7200/7200 [==============================] - 2s 218us/step - loss: 0.5517 - acc: 0.7956\n",
      "Epoch 1/1\n",
      "7200/7200 [==============================] - 2s 218us/step - loss: 0.5605 - acc: 0.7975\n",
      "Epoch 1/1\n",
      "7200/7200 [==============================] - 2s 223us/step - loss: 0.5843 - acc: 0.7917\n",
      "Epoch 1/1\n",
      "7200/7200 [==============================] - 2s 225us/step - loss: 0.6044 - acc: 0.7928\n",
      "Epoch 1/1\n",
      "7200/7200 [==============================] - 2s 229us/step - loss: 0.5689 - acc: 0.7961\n",
      "Epoch 1/1\n",
      "7200/7200 [==============================] - 2s 238us/step - loss: 0.5820 - acc: 0.7957\n",
      "Epoch 1/1\n",
      "7200/7200 [==============================] - 2s 244us/step - loss: 0.5624 - acc: 0.7957\n",
      "Epoch 1/1\n",
      "7200/7200 [==============================] - 2s 242us/step - loss: 0.5679 - acc: 0.7950\n",
      "Epoch 1/1\n",
      "7200/7200 [==============================] - 2s 248us/step - loss: 0.5713 - acc: 0.7965\n",
      "Epoch 1/1\n",
      "7200/7200 [==============================] - 2s 253us/step - loss: 0.6066 - acc: 0.7944\n",
      "Epoch 1/1\n",
      "7200/7200 [==============================] - 2s 257us/step - loss: 0.5825 - acc: 0.7943\n",
      "Epoch 1/1\n",
      "7200/7200 [==============================] - 2s 263us/step - loss: 0.5925 - acc: 0.7954\n",
      "Epoch 1/1\n",
      "7200/7200 [==============================] - 2s 267us/step - loss: 0.5788 - acc: 0.7937\n",
      "Epoch 1/1\n",
      "7200/7200 [==============================] - 2s 273us/step - loss: 0.6368 - acc: 0.7925\n",
      "Epoch 1/1\n",
      "7200/7200 [==============================] - 2s 280us/step - loss: 0.6078 - acc: 0.7960\n",
      "Epoch 1/1\n",
      "7200/7200 [==============================] - 2s 281us/step - loss: 0.5783 - acc: 0.7962\n",
      "Epoch 1/1\n",
      "7200/7200 [==============================] - 2s 295us/step - loss: 0.5990 - acc: 0.7935\n",
      "Epoch 1/1\n",
      "7200/7200 [==============================] - 2s 299us/step - loss: 0.6069 - acc: 0.7954\n",
      "Epoch 1/1\n",
      "7200/7200 [==============================] - 2s 296us/step - loss: 0.5993 - acc: 0.7969\n",
      "Epoch 1/1\n",
      "7200/7200 [==============================] - 2s 298us/step - loss: 0.5975 - acc: 0.7960\n",
      "Epoch 1/1\n",
      "7200/7200 [==============================] - 2s 305us/step - loss: 0.5947 - acc: 0.7954\n",
      "Epoch 1/1\n",
      "7200/7200 [==============================] - 2s 304us/step - loss: 0.5958 - acc: 0.7971\n",
      "Epoch 1/1\n",
      "7200/7200 [==============================] - 2s 313us/step - loss: 0.5983 - acc: 0.7922\n",
      "Epoch 1/1\n",
      "7200/7200 [==============================] - 2s 315us/step - loss: 0.6036 - acc: 0.7939\n",
      "Epoch 1/1\n",
      "7200/7200 [==============================] - 2s 320us/step - loss: 0.6234 - acc: 0.7950\n",
      "Epoch 1/1\n",
      "7200/7200 [==============================] - 2s 339us/step - loss: 0.6272 - acc: 0.7929\n",
      "Epoch 1/1\n",
      "7200/7200 [==============================] - 2s 330us/step - loss: 0.5978 - acc: 0.7942\n",
      "Epoch 1/1\n",
      "7200/7200 [==============================] - 2s 335us/step - loss: 0.6229 - acc: 0.7922\n",
      "Epoch 1/1\n",
      "7200/7200 [==============================] - 2s 343us/step - loss: 0.6086 - acc: 0.7954\n",
      "Epoch 1/1\n",
      "7200/7200 [==============================] - 3s 355us/step - loss: 0.5877 - acc: 0.7944\n",
      "Epoch 1/1\n",
      "7200/7200 [==============================] - 3s 370us/step - loss: 0.5798 - acc: 0.7954\n",
      "Epoch 1/1\n",
      "7200/7200 [==============================] - 3s 366us/step - loss: 0.6029 - acc: 0.7969\n",
      "Epoch 1/1\n",
      "7200/7200 [==============================] - 3s 369us/step - loss: 0.6042 - acc: 0.7929\n",
      "Epoch 1/1\n",
      "7200/7200 [==============================] - 3s 379us/step - loss: 0.5838 - acc: 0.7940\n",
      "Epoch 1/1\n",
      "7200/7200 [==============================] - 3s 378us/step - loss: 0.6082 - acc: 0.7956\n",
      "Epoch 1/1\n",
      "7200/7200 [==============================] - 3s 385us/step - loss: 0.6128 - acc: 0.7939\n",
      "Epoch 1/1\n",
      "7200/7200 [==============================] - 3s 387us/step - loss: 0.6035 - acc: 0.7944\n",
      "Epoch 1/1\n",
      "7200/7200 [==============================] - 3s 399us/step - loss: 0.5858 - acc: 0.7954\n",
      "Epoch 1/1\n",
      "7200/7200 [==============================] - 3s 406us/step - loss: 0.6271 - acc: 0.7940\n",
      "Epoch 1/1\n",
      "7200/7200 [==============================] - 3s 417us/step - loss: 0.6149 - acc: 0.7954\n",
      "Epoch 1/1\n",
      "7200/7200 [==============================] - 3s 421us/step - loss: 0.6029 - acc: 0.7944\n",
      "Epoch 1/1\n",
      "7200/7200 [==============================] - 3s 411us/step - loss: 0.6138 - acc: 0.7956\n",
      "Epoch 1/1\n",
      "7200/7200 [==============================] - 3s 407us/step - loss: 0.6095 - acc: 0.7907\n",
      "Epoch 1/1\n",
      "7200/7200 [==============================] - 3s 418us/step - loss: 0.5853 - acc: 0.7944\n",
      "Epoch 1/1\n",
      "7200/7200 [==============================] - 3s 420us/step - loss: 0.6239 - acc: 0.7950\n",
      "Epoch 1/1\n",
      "7200/7200 [==============================] - 3s 420us/step - loss: 0.5883 - acc: 0.7961\n",
      "Epoch 1/1\n",
      "7200/7200 [==============================] - 3s 432us/step - loss: 0.5961 - acc: 0.7943\n",
      "Epoch 1/1\n",
      "7200/7200 [==============================] - 3s 434us/step - loss: 0.6088 - acc: 0.7946\n",
      "Epoch 1/1\n",
      "8000/8000 [==============================] - 3s 425us/step - loss: 0.5309 - acc: 0.7960\n"
     ]
    }
   ],
   "source": [
    "parameters = {'batch_size': [25,32], \n",
    "              'nb_epoch': [100,500],\n",
    "             'optimizer': ['adam','rmsprop']}\n",
    "\n",
    "grid_search = GridSearchCV(estimator = classifier, param_grid = parameters, scoring = 'accuracy', cv = 10)\n",
    "grid_search = grid_search.fit(X_train, y_train)\n",
    "\n",
    "best_parameters =  grid_search.best_params_\n",
    "best_accuracy = grid_search.best_score_"
   ]
  },
  {
   "cell_type": "code",
   "execution_count": null,
   "metadata": {},
   "outputs": [],
   "source": []
  }
 ],
 "metadata": {
  "kernelspec": {
   "display_name": "Python 3",
   "language": "python",
   "name": "python3"
  },
  "language_info": {
   "codemirror_mode": {
    "name": "ipython",
    "version": 3
   },
   "file_extension": ".py",
   "mimetype": "text/x-python",
   "name": "python",
   "nbconvert_exporter": "python",
   "pygments_lexer": "ipython3",
   "version": "3.7.4"
  }
 },
 "nbformat": 4,
 "nbformat_minor": 2
}
